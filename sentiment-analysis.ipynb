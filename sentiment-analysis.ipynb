{
 "cells": [
  {
   "cell_type": "markdown",
   "id": "ada01c3d",
   "metadata": {
    "id": "8Gf0u3uzd7oM",
    "papermill": {
     "duration": 0.025597,
     "end_time": "2022-12-09T14:29:08.063957",
     "exception": false,
     "start_time": "2022-12-09T14:29:08.038360",
     "status": "completed"
    },
    "tags": []
   },
   "source": [
    "# Assignment - Sentiment Analysis of Movie Reviews\n",
    "\n",
    "![](https://i.imgur.com/6Wfmf2S.png)\n",
    "\n",
    "\n",
    "Outline:\n",
    "\n",
    "1. Download and Explore Dataset\n",
    "2. Implement the TF-IDF Technique\n",
    "3. Train baseline model & submit to Kaggle\n",
    "4. Train & finetune different ML models\n",
    "3. Document & submit your notebook\n",
    "\n",
    "\n",
    "Dataset: https://www.kaggle.com/c/sentiment-analysis-on-movie-reviews\n"
   ]
  },
  {
   "cell_type": "markdown",
   "id": "a871925b",
   "metadata": {
    "id": "hw0pygCOefi9",
    "papermill": {
     "duration": 0.02055,
     "end_time": "2022-12-09T14:29:08.105502",
     "exception": false,
     "start_time": "2022-12-09T14:29:08.084952",
     "status": "completed"
    },
    "tags": []
   },
   "source": [
    "## Download and Explore the Data\n",
    "\n",
    "Outline:\n",
    "\n",
    "1. Download Dataset from Kaggle\n",
    "2. Explore and visualize data"
   ]
  },
  {
   "cell_type": "markdown",
   "id": "4cdd9815",
   "metadata": {
    "id": "KPS8buEdtllZ",
    "papermill": {
     "duration": 0.020435,
     "end_time": "2022-12-09T14:29:08.146956",
     "exception": false,
     "start_time": "2022-12-09T14:29:08.126521",
     "status": "completed"
    },
    "tags": []
   },
   "source": [
    "### Download Dataset from Kaggle\n",
    "\n",
    "- Read the \"Description\", \"Evaluation\" and \"Data\" sections on the Kaggle competition page carefully\n",
    "- Make sure to download the `kaggle.json` file from your [Kaggle account](https://kaggle.com/me/account) and upload it on Colab"
   ]
  },
  {
   "cell_type": "code",
   "execution_count": 1,
   "id": "e4fd7955",
   "metadata": {
    "execution": {
     "iopub.execute_input": "2022-12-09T14:29:08.202531Z",
     "iopub.status.busy": "2022-12-09T14:29:08.201379Z",
     "iopub.status.idle": "2022-12-09T14:29:08.216947Z",
     "shell.execute_reply": "2022-12-09T14:29:08.214751Z"
    },
    "id": "8keFyOUBg8kP",
    "papermill": {
     "duration": 0.050636,
     "end_time": "2022-12-09T14:29:08.219785",
     "exception": false,
     "start_time": "2022-12-09T14:29:08.169149",
     "status": "completed"
    },
    "tags": []
   },
   "outputs": [],
   "source": [
    "import os"
   ]
  },
  {
   "cell_type": "markdown",
   "id": "676cbf16",
   "metadata": {
    "id": "CVbujLQ9tpAb",
    "papermill": {
     "duration": 0.020829,
     "end_time": "2022-12-09T14:29:10.742604",
     "exception": false,
     "start_time": "2022-12-09T14:29:10.721775",
     "status": "completed"
    },
    "tags": []
   },
   "source": [
    "### Explore and Visualize Data\n",
    "\n",
    "* Load the train, test, and submission files using Pandas\n",
    "* Explore rows, columns, sample values etc.\n",
    "* Visualize distribution of target columns"
   ]
  },
  {
   "cell_type": "code",
   "execution_count": 2,
   "id": "bb3af26c",
   "metadata": {
    "execution": {
     "iopub.execute_input": "2022-12-09T14:29:10.788176Z",
     "iopub.status.busy": "2022-12-09T14:29:10.787308Z",
     "iopub.status.idle": "2022-12-09T14:29:10.792379Z",
     "shell.execute_reply": "2022-12-09T14:29:10.791429Z"
    },
    "id": "H2JenReXw7SI",
    "papermill": {
     "duration": 0.030919,
     "end_time": "2022-12-09T14:29:10.794695",
     "exception": false,
     "start_time": "2022-12-09T14:29:10.763776",
     "status": "completed"
    },
    "tags": []
   },
   "outputs": [],
   "source": [
    "import pandas as pd"
   ]
  },
  {
   "cell_type": "code",
   "execution_count": 3,
   "id": "5cc82e4c",
   "metadata": {
    "execution": {
     "iopub.execute_input": "2022-12-09T14:29:10.838862Z",
     "iopub.status.busy": "2022-12-09T14:29:10.838105Z",
     "iopub.status.idle": "2022-12-09T14:29:11.085313Z",
     "shell.execute_reply": "2022-12-09T14:29:11.084019Z"
    },
    "id": "oPwLSKsrvdTa",
    "papermill": {
     "duration": 0.272716,
     "end_time": "2022-12-09T14:29:11.088525",
     "exception": false,
     "start_time": "2022-12-09T14:29:10.815809",
     "status": "completed"
    },
    "tags": []
   },
   "outputs": [],
   "source": [
    "train_tsv = pd.read_table(\"train.tsv\")"
   ]
  },
  {
   "cell_type": "code",
   "execution_count": 4,
   "id": "ad40d084",
   "metadata": {
    "execution": {
     "iopub.execute_input": "2022-12-09T14:29:11.132393Z",
     "iopub.status.busy": "2022-12-09T14:29:11.131954Z",
     "iopub.status.idle": "2022-12-09T14:29:11.165981Z",
     "shell.execute_reply": "2022-12-09T14:29:11.164521Z"
    },
    "id": "4-cvRH3HenYx",
    "outputId": "0a32b832-3cda-4d46-8604-67f46b10ad54",
    "papermill": {
     "duration": 0.059604,
     "end_time": "2022-12-09T14:29:11.169150",
     "exception": false,
     "start_time": "2022-12-09T14:29:11.109546",
     "status": "completed"
    },
    "tags": []
   },
   "outputs": [
    {
     "data": {
      "text/html": [
       "<div>\n",
       "<style scoped>\n",
       "    .dataframe tbody tr th:only-of-type {\n",
       "        vertical-align: middle;\n",
       "    }\n",
       "\n",
       "    .dataframe tbody tr th {\n",
       "        vertical-align: top;\n",
       "    }\n",
       "\n",
       "    .dataframe thead th {\n",
       "        text-align: right;\n",
       "    }\n",
       "</style>\n",
       "<table border=\"1\" class=\"dataframe\">\n",
       "  <thead>\n",
       "    <tr style=\"text-align: right;\">\n",
       "      <th></th>\n",
       "      <th>PhraseId</th>\n",
       "      <th>SentenceId</th>\n",
       "      <th>Phrase</th>\n",
       "      <th>Sentiment</th>\n",
       "    </tr>\n",
       "  </thead>\n",
       "  <tbody>\n",
       "    <tr>\n",
       "      <th>0</th>\n",
       "      <td>1</td>\n",
       "      <td>1</td>\n",
       "      <td>A series of escapades demonstrating the adage ...</td>\n",
       "      <td>1</td>\n",
       "    </tr>\n",
       "    <tr>\n",
       "      <th>1</th>\n",
       "      <td>2</td>\n",
       "      <td>1</td>\n",
       "      <td>A series of escapades demonstrating the adage ...</td>\n",
       "      <td>2</td>\n",
       "    </tr>\n",
       "    <tr>\n",
       "      <th>2</th>\n",
       "      <td>3</td>\n",
       "      <td>1</td>\n",
       "      <td>A series</td>\n",
       "      <td>2</td>\n",
       "    </tr>\n",
       "    <tr>\n",
       "      <th>3</th>\n",
       "      <td>4</td>\n",
       "      <td>1</td>\n",
       "      <td>A</td>\n",
       "      <td>2</td>\n",
       "    </tr>\n",
       "    <tr>\n",
       "      <th>4</th>\n",
       "      <td>5</td>\n",
       "      <td>1</td>\n",
       "      <td>series</td>\n",
       "      <td>2</td>\n",
       "    </tr>\n",
       "    <tr>\n",
       "      <th>...</th>\n",
       "      <td>...</td>\n",
       "      <td>...</td>\n",
       "      <td>...</td>\n",
       "      <td>...</td>\n",
       "    </tr>\n",
       "    <tr>\n",
       "      <th>156055</th>\n",
       "      <td>156056</td>\n",
       "      <td>8544</td>\n",
       "      <td>Hearst 's</td>\n",
       "      <td>2</td>\n",
       "    </tr>\n",
       "    <tr>\n",
       "      <th>156056</th>\n",
       "      <td>156057</td>\n",
       "      <td>8544</td>\n",
       "      <td>forced avuncular chortles</td>\n",
       "      <td>1</td>\n",
       "    </tr>\n",
       "    <tr>\n",
       "      <th>156057</th>\n",
       "      <td>156058</td>\n",
       "      <td>8544</td>\n",
       "      <td>avuncular chortles</td>\n",
       "      <td>3</td>\n",
       "    </tr>\n",
       "    <tr>\n",
       "      <th>156058</th>\n",
       "      <td>156059</td>\n",
       "      <td>8544</td>\n",
       "      <td>avuncular</td>\n",
       "      <td>2</td>\n",
       "    </tr>\n",
       "    <tr>\n",
       "      <th>156059</th>\n",
       "      <td>156060</td>\n",
       "      <td>8544</td>\n",
       "      <td>chortles</td>\n",
       "      <td>2</td>\n",
       "    </tr>\n",
       "  </tbody>\n",
       "</table>\n",
       "<p>156060 rows × 4 columns</p>\n",
       "</div>"
      ],
      "text/plain": [
       "        PhraseId  SentenceId  \\\n",
       "0              1           1   \n",
       "1              2           1   \n",
       "2              3           1   \n",
       "3              4           1   \n",
       "4              5           1   \n",
       "...          ...         ...   \n",
       "156055    156056        8544   \n",
       "156056    156057        8544   \n",
       "156057    156058        8544   \n",
       "156058    156059        8544   \n",
       "156059    156060        8544   \n",
       "\n",
       "                                                   Phrase  Sentiment  \n",
       "0       A series of escapades demonstrating the adage ...          1  \n",
       "1       A series of escapades demonstrating the adage ...          2  \n",
       "2                                                A series          2  \n",
       "3                                                       A          2  \n",
       "4                                                  series          2  \n",
       "...                                                   ...        ...  \n",
       "156055                                          Hearst 's          2  \n",
       "156056                          forced avuncular chortles          1  \n",
       "156057                                 avuncular chortles          3  \n",
       "156058                                          avuncular          2  \n",
       "156059                                           chortles          2  \n",
       "\n",
       "[156060 rows x 4 columns]"
      ]
     },
     "execution_count": 4,
     "metadata": {},
     "output_type": "execute_result"
    }
   ],
   "source": [
    "train_tsv"
   ]
  },
  {
   "cell_type": "code",
   "execution_count": 5,
   "id": "504c3aeb",
   "metadata": {
    "execution": {
     "iopub.execute_input": "2022-12-09T14:29:11.214658Z",
     "iopub.status.busy": "2022-12-09T14:29:11.214167Z",
     "iopub.status.idle": "2022-12-09T14:29:11.309227Z",
     "shell.execute_reply": "2022-12-09T14:29:11.308053Z"
    },
    "id": "EF3B9tjTxJVn",
    "papermill": {
     "duration": 0.120634,
     "end_time": "2022-12-09T14:29:11.312050",
     "exception": false,
     "start_time": "2022-12-09T14:29:11.191416",
     "status": "completed"
    },
    "tags": []
   },
   "outputs": [],
   "source": [
    "test_tsv = pd.read_table(\"test.tsv\")"
   ]
  },
  {
   "cell_type": "code",
   "execution_count": 6,
   "id": "8ed39b2a",
   "metadata": {
    "execution": {
     "iopub.execute_input": "2022-12-09T14:29:11.357155Z",
     "iopub.status.busy": "2022-12-09T14:29:11.356672Z",
     "iopub.status.idle": "2022-12-09T14:29:11.372598Z",
     "shell.execute_reply": "2022-12-09T14:29:11.371376Z"
    },
    "id": "ZwubETUvxTBo",
    "outputId": "5d1fb943-4c62-4428-a481-18d15c61df16",
    "papermill": {
     "duration": 0.041222,
     "end_time": "2022-12-09T14:29:11.375065",
     "exception": false,
     "start_time": "2022-12-09T14:29:11.333843",
     "status": "completed"
    },
    "tags": []
   },
   "outputs": [
    {
     "data": {
      "text/html": [
       "<div>\n",
       "<style scoped>\n",
       "    .dataframe tbody tr th:only-of-type {\n",
       "        vertical-align: middle;\n",
       "    }\n",
       "\n",
       "    .dataframe tbody tr th {\n",
       "        vertical-align: top;\n",
       "    }\n",
       "\n",
       "    .dataframe thead th {\n",
       "        text-align: right;\n",
       "    }\n",
       "</style>\n",
       "<table border=\"1\" class=\"dataframe\">\n",
       "  <thead>\n",
       "    <tr style=\"text-align: right;\">\n",
       "      <th></th>\n",
       "      <th>PhraseId</th>\n",
       "      <th>SentenceId</th>\n",
       "      <th>Phrase</th>\n",
       "    </tr>\n",
       "  </thead>\n",
       "  <tbody>\n",
       "    <tr>\n",
       "      <th>0</th>\n",
       "      <td>156061</td>\n",
       "      <td>8545</td>\n",
       "      <td>An intermittently pleasing but mostly routine ...</td>\n",
       "    </tr>\n",
       "    <tr>\n",
       "      <th>1</th>\n",
       "      <td>156062</td>\n",
       "      <td>8545</td>\n",
       "      <td>An intermittently pleasing but mostly routine ...</td>\n",
       "    </tr>\n",
       "    <tr>\n",
       "      <th>2</th>\n",
       "      <td>156063</td>\n",
       "      <td>8545</td>\n",
       "      <td>An</td>\n",
       "    </tr>\n",
       "    <tr>\n",
       "      <th>3</th>\n",
       "      <td>156064</td>\n",
       "      <td>8545</td>\n",
       "      <td>intermittently pleasing but mostly routine effort</td>\n",
       "    </tr>\n",
       "    <tr>\n",
       "      <th>4</th>\n",
       "      <td>156065</td>\n",
       "      <td>8545</td>\n",
       "      <td>intermittently pleasing but mostly routine</td>\n",
       "    </tr>\n",
       "    <tr>\n",
       "      <th>...</th>\n",
       "      <td>...</td>\n",
       "      <td>...</td>\n",
       "      <td>...</td>\n",
       "    </tr>\n",
       "    <tr>\n",
       "      <th>66287</th>\n",
       "      <td>222348</td>\n",
       "      <td>11855</td>\n",
       "      <td>A long-winded , predictable scenario .</td>\n",
       "    </tr>\n",
       "    <tr>\n",
       "      <th>66288</th>\n",
       "      <td>222349</td>\n",
       "      <td>11855</td>\n",
       "      <td>A long-winded , predictable scenario</td>\n",
       "    </tr>\n",
       "    <tr>\n",
       "      <th>66289</th>\n",
       "      <td>222350</td>\n",
       "      <td>11855</td>\n",
       "      <td>A long-winded ,</td>\n",
       "    </tr>\n",
       "    <tr>\n",
       "      <th>66290</th>\n",
       "      <td>222351</td>\n",
       "      <td>11855</td>\n",
       "      <td>A long-winded</td>\n",
       "    </tr>\n",
       "    <tr>\n",
       "      <th>66291</th>\n",
       "      <td>222352</td>\n",
       "      <td>11855</td>\n",
       "      <td>predictable scenario</td>\n",
       "    </tr>\n",
       "  </tbody>\n",
       "</table>\n",
       "<p>66292 rows × 3 columns</p>\n",
       "</div>"
      ],
      "text/plain": [
       "       PhraseId  SentenceId                                             Phrase\n",
       "0        156061        8545  An intermittently pleasing but mostly routine ...\n",
       "1        156062        8545  An intermittently pleasing but mostly routine ...\n",
       "2        156063        8545                                                 An\n",
       "3        156064        8545  intermittently pleasing but mostly routine effort\n",
       "4        156065        8545         intermittently pleasing but mostly routine\n",
       "...         ...         ...                                                ...\n",
       "66287    222348       11855             A long-winded , predictable scenario .\n",
       "66288    222349       11855               A long-winded , predictable scenario\n",
       "66289    222350       11855                                    A long-winded ,\n",
       "66290    222351       11855                                      A long-winded\n",
       "66291    222352       11855                               predictable scenario\n",
       "\n",
       "[66292 rows x 3 columns]"
      ]
     },
     "execution_count": 6,
     "metadata": {},
     "output_type": "execute_result"
    }
   ],
   "source": [
    "test_tsv"
   ]
  },
  {
   "cell_type": "code",
   "execution_count": 7,
   "id": "a3ceddee",
   "metadata": {
    "execution": {
     "iopub.execute_input": "2022-12-09T14:29:11.421523Z",
     "iopub.status.busy": "2022-12-09T14:29:11.421075Z",
     "iopub.status.idle": "2022-12-09T14:29:11.439452Z",
     "shell.execute_reply": "2022-12-09T14:29:11.438144Z"
    },
    "id": "l0Skd9KnxdjV",
    "outputId": "c349180c-9367-478b-d27e-2ac0ce8934e6",
    "papermill": {
     "duration": 0.045128,
     "end_time": "2022-12-09T14:29:11.441916",
     "exception": false,
     "start_time": "2022-12-09T14:29:11.396788",
     "status": "completed"
    },
    "tags": []
   },
   "outputs": [
    {
     "data": {
      "text/plain": [
       "2    79582\n",
       "3    32927\n",
       "1    27273\n",
       "4     9206\n",
       "0     7072\n",
       "Name: Sentiment, dtype: int64"
      ]
     },
     "execution_count": 7,
     "metadata": {},
     "output_type": "execute_result"
    }
   ],
   "source": [
    "train_tsv.Sentiment.value_counts()"
   ]
  },
  {
   "cell_type": "code",
   "execution_count": 8,
   "id": "9eeea61d",
   "metadata": {
    "execution": {
     "iopub.execute_input": "2022-12-09T14:29:11.489214Z",
     "iopub.status.busy": "2022-12-09T14:29:11.488773Z",
     "iopub.status.idle": "2022-12-09T14:29:11.757988Z",
     "shell.execute_reply": "2022-12-09T14:29:11.757083Z"
    },
    "id": "-uae8Me6tt4I",
    "outputId": "c1554547-b4b0-474b-eb97-1b4e056a50c9",
    "papermill": {
     "duration": 0.296361,
     "end_time": "2022-12-09T14:29:11.760436",
     "exception": false,
     "start_time": "2022-12-09T14:29:11.464075",
     "status": "completed"
    },
    "tags": []
   },
   "outputs": [
    {
     "data": {
      "text/plain": [
       "<AxesSubplot:>"
      ]
     },
     "execution_count": 8,
     "metadata": {},
     "output_type": "execute_result"
    },
    {
     "data": {
      "image/png": "[encoded data removed]",
      "text/plain": [
       "<Figure size 640x480 with 1 Axes>"
      ]
     },
     "metadata": {},
     "output_type": "display_data"
    }
   ],
   "source": [
    "train_tsv.Sentiment.value_counts(normalize=True).plot(kind=\"bar\")"
   ]
  },
  {
   "cell_type": "code",
   "execution_count": 9,
   "id": "625e9c6f",
   "metadata": {
    "execution": {
     "iopub.execute_input": "2022-12-09T14:29:11.807258Z",
     "iopub.status.busy": "2022-12-09T14:29:11.806154Z",
     "iopub.status.idle": "2022-12-09T14:29:11.817614Z",
     "shell.execute_reply": "2022-12-09T14:29:11.816455Z"
    },
    "id": "Y8mJk3hxx1qA",
    "outputId": "5410e768-26d4-418a-b3b0-6b63ee372443",
    "papermill": {
     "duration": 0.037468,
     "end_time": "2022-12-09T14:29:11.820161",
     "exception": false,
     "start_time": "2022-12-09T14:29:11.782693",
     "status": "completed"
    },
    "tags": []
   },
   "outputs": [
    {
     "data": {
      "text/plain": [
       "2    0.509945\n",
       "3    0.210989\n",
       "1    0.174760\n",
       "4    0.058990\n",
       "0    0.045316\n",
       "Name: Sentiment, dtype: float64"
      ]
     },
     "execution_count": 9,
     "metadata": {},
     "output_type": "execute_result"
    }
   ],
   "source": [
    "train_tsv.Sentiment.value_counts(normalize=True)"
   ]
  },
  {
   "cell_type": "code",
   "execution_count": 10,
   "id": "bf50c143",
   "metadata": {
    "execution": {
     "iopub.execute_input": "2022-12-09T14:29:11.867563Z",
     "iopub.status.busy": "2022-12-09T14:29:11.866454Z",
     "iopub.status.idle": "2022-12-09T14:29:11.924567Z",
     "shell.execute_reply": "2022-12-09T14:29:11.923425Z"
    },
    "id": "Alsp6ihC1DaP",
    "outputId": "0bf9848f-dbef-4a13-f935-39417ba85ced",
    "papermill": {
     "duration": 0.085249,
     "end_time": "2022-12-09T14:29:11.927398",
     "exception": false,
     "start_time": "2022-12-09T14:29:11.842149",
     "status": "completed"
    },
    "tags": []
   },
   "outputs": [
    {
     "data": {
      "text/plain": [
       "0         188\n",
       "1          77\n",
       "2           8\n",
       "3           1\n",
       "4           6\n",
       "         ... \n",
       "156055      9\n",
       "156056     25\n",
       "156057     18\n",
       "156058      9\n",
       "156059      8\n",
       "Name: Phrase, Length: 156060, dtype: int64"
      ]
     },
     "execution_count": 10,
     "metadata": {},
     "output_type": "execute_result"
    }
   ],
   "source": [
    "train_tsv.Phrase.apply(len)"
   ]
  },
  {
   "cell_type": "markdown",
   "id": "cd55ab8c",
   "metadata": {
    "id": "yESLHuK3x65P",
    "papermill": {
     "duration": 0.024596,
     "end_time": "2022-12-09T14:29:11.974914",
     "exception": false,
     "start_time": "2022-12-09T14:29:11.950318",
     "status": "completed"
    },
    "tags": []
   },
   "source": [
    "Summarize your insights and learnings from the dataset below:\n",
    "\n",
    "* Class Imbalance\n",
    "* 2    0.509945<br>\n",
    "  3    0.210989<br>\n",
    "  1    0.174760<br>\n",
    "  4    0.058990<br>\n",
    "  0    0.045316<br>\n",
    "* Variable Phrase length 1-283"
   ]
  },
  {
   "cell_type": "markdown",
   "id": "1eddacf2",
   "metadata": {
    "id": "pYaRDixJen33",
    "papermill": {
     "duration": 0.022519,
     "end_time": "2022-12-09T14:29:12.020140",
     "exception": false,
     "start_time": "2022-12-09T14:29:11.997621",
     "status": "completed"
    },
    "tags": []
   },
   "source": [
    "## Implement TF-IDF Technique\n",
    "\n",
    "![](https://i.imgur.com/5VbUPup.png)\n",
    "\n",
    "Outline:\n",
    "\n",
    "1. Learn the vocabulary using `TfidfVectorizer`\n",
    "3. Transform training and test data"
   ]
  },
  {
   "cell_type": "markdown",
   "id": "9197b8db",
   "metadata": {
    "id": "m3cu-meXuETm",
    "papermill": {
     "duration": 0.02235,
     "end_time": "2022-12-09T14:29:12.065356",
     "exception": false,
     "start_time": "2022-12-09T14:29:12.043006",
     "status": "completed"
    },
    "tags": []
   },
   "source": [
    "#### Learn Vocabulary using `TfidfVectorizer `\n",
    "\n",
    "* Create custom tokenizer with stemming\n",
    "* Create a list of stop words\n",
    "* Configure and create `TfidfVectorizer `\n",
    "* Learn vocubulary from training set\n",
    "* View sample entries from vocabulary"
   ]
  },
  {
   "cell_type": "code",
   "execution_count": 11,
   "id": "003e3d5b",
   "metadata": {
    "execution": {
     "iopub.execute_input": "2022-12-09T14:29:12.111701Z",
     "iopub.status.busy": "2022-12-09T14:29:12.111286Z",
     "iopub.status.idle": "2022-12-09T14:29:14.270709Z",
     "shell.execute_reply": "2022-12-09T14:29:14.269006Z"
    },
    "id": "u7pWYRHnzUWW",
    "outputId": "0477599f-6c82-401e-e0d5-c2fe55ce83a4",
    "papermill": {
     "duration": 2.185817,
     "end_time": "2022-12-09T14:29:14.273621",
     "exception": false,
     "start_time": "2022-12-09T14:29:12.087804",
     "status": "completed"
    },
    "tags": []
   },
   "outputs": [
    {
     "name": "stderr",
     "output_type": "stream",
     "text": [
      "[nltk_data] Downloading package punkt to C:\\Users\\Windows\n",
      "[nltk_data]     10\\AppData\\Roaming\\nltk_data...\n",
      "[nltk_data]   Package punkt is already up-to-date!\n"
     ]
    },
    {
     "data": {
      "text/plain": [
       "True"
      ]
     },
     "execution_count": 11,
     "metadata": {},
     "output_type": "execute_result"
    }
   ],
   "source": [
    "from nltk.tokenize import word_tokenize\n",
    "import nltk\n",
    "nltk.download('punkt')"
   ]
  },
  {
   "cell_type": "code",
   "execution_count": 12,
   "id": "8154ce1c",
   "metadata": {
    "execution": {
     "iopub.execute_input": "2022-12-09T14:29:14.323135Z",
     "iopub.status.busy": "2022-12-09T14:29:14.322624Z",
     "iopub.status.idle": "2022-12-09T14:29:14.328303Z",
     "shell.execute_reply": "2022-12-09T14:29:14.327291Z"
    },
    "id": "Ag_lyI8mzbqE",
    "papermill": {
     "duration": 0.033488,
     "end_time": "2022-12-09T14:29:14.330594",
     "exception": false,
     "start_time": "2022-12-09T14:29:14.297106",
     "status": "completed"
    },
    "tags": []
   },
   "outputs": [],
   "source": [
    "q = train_tsv.Phrase.values[0]"
   ]
  },
  {
   "cell_type": "code",
   "execution_count": 13,
   "id": "445fe6aa",
   "metadata": {
    "execution": {
     "iopub.execute_input": "2022-12-09T14:29:14.379253Z",
     "iopub.status.busy": "2022-12-09T14:29:14.378368Z",
     "iopub.status.idle": "2022-12-09T14:29:14.384862Z",
     "shell.execute_reply": "2022-12-09T14:29:14.383997Z"
    },
    "id": "4vzkmwVG0GGE",
    "outputId": "678f4e09-accc-4433-a84d-37b6516b2d69",
    "papermill": {
     "duration": 0.034066,
     "end_time": "2022-12-09T14:29:14.387047",
     "exception": false,
     "start_time": "2022-12-09T14:29:14.352981",
     "status": "completed"
    },
    "tags": []
   },
   "outputs": [
    {
     "data": {
      "text/plain": [
       "'A series of escapades demonstrating the adage that what is good for the goose is also good for the gander , some of which occasionally amuses but none of which amounts to much of a story .'"
      ]
     },
     "execution_count": 13,
     "metadata": {},
     "output_type": "execute_result"
    }
   ],
   "source": [
    "q"
   ]
  },
  {
   "cell_type": "code",
   "execution_count": 14,
   "id": "6acafcda",
   "metadata": {
    "execution": {
     "iopub.execute_input": "2022-12-09T14:29:14.434770Z",
     "iopub.status.busy": "2022-12-09T14:29:14.433449Z",
     "iopub.status.idle": "2022-12-09T14:29:14.454949Z",
     "shell.execute_reply": "2022-12-09T14:29:14.453543Z"
    },
    "id": "DxZWPPfE0FeN",
    "outputId": "dcf193b1-f255-4689-e866-f3b67ea12c38",
    "papermill": {
     "duration": 0.048082,
     "end_time": "2022-12-09T14:29:14.457651",
     "exception": false,
     "start_time": "2022-12-09T14:29:14.409569",
     "status": "completed"
    },
    "tags": []
   },
   "outputs": [
    {
     "data": {
      "text/plain": [
       "['A',\n",
       " 'series',\n",
       " 'of',\n",
       " 'escapades',\n",
       " 'demonstrating',\n",
       " 'the',\n",
       " 'adage',\n",
       " 'that',\n",
       " 'what',\n",
       " 'is',\n",
       " 'good',\n",
       " 'for',\n",
       " 'the',\n",
       " 'goose',\n",
       " 'is',\n",
       " 'also',\n",
       " 'good',\n",
       " 'for',\n",
       " 'the',\n",
       " 'gander',\n",
       " ',',\n",
       " 'some',\n",
       " 'of',\n",
       " 'which',\n",
       " 'occasionally',\n",
       " 'amuses',\n",
       " 'but',\n",
       " 'none',\n",
       " 'of',\n",
       " 'which',\n",
       " 'amounts',\n",
       " 'to',\n",
       " 'much',\n",
       " 'of',\n",
       " 'a',\n",
       " 'story',\n",
       " '.']"
      ]
     },
     "execution_count": 14,
     "metadata": {},
     "output_type": "execute_result"
    }
   ],
   "source": [
    "word_tokenize(q)"
   ]
  },
  {
   "cell_type": "code",
   "execution_count": 15,
   "id": "c6e860ae",
   "metadata": {
    "execution": {
     "iopub.execute_input": "2022-12-09T14:29:14.505494Z",
     "iopub.status.busy": "2022-12-09T14:29:14.505070Z",
     "iopub.status.idle": "2022-12-09T14:29:14.526252Z",
     "shell.execute_reply": "2022-12-09T14:29:14.524991Z"
    },
    "id": "ffPOWbhdd7oP",
    "outputId": "e7855379-42b2-455b-e972-9d42dd3fa7e8",
    "papermill": {
     "duration": 0.048224,
     "end_time": "2022-12-09T14:29:14.528904",
     "exception": false,
     "start_time": "2022-12-09T14:29:14.480680",
     "status": "completed"
    },
    "tags": []
   },
   "outputs": [
    {
     "name": "stderr",
     "output_type": "stream",
     "text": [
      "[nltk_data] Downloading package stopwords to C:\\Users\\Windows\n",
      "[nltk_data]     10\\AppData\\Roaming\\nltk_data...\n",
      "[nltk_data]   Package stopwords is already up-to-date!\n"
     ]
    }
   ],
   "source": [
    "import nltk\n",
    "from nltk.corpus import stopwords\n",
    "nltk.download('stopwords')\n",
    "all_stop_words = stopwords.words('english')"
   ]
  },
  {
   "cell_type": "code",
   "execution_count": 16,
   "id": "7bd11d85",
   "metadata": {
    "execution": {
     "iopub.execute_input": "2022-12-09T14:29:14.575903Z",
     "iopub.status.busy": "2022-12-09T14:29:14.575473Z",
     "iopub.status.idle": "2022-12-09T14:29:14.583356Z",
     "shell.execute_reply": "2022-12-09T14:29:14.582158Z"
    },
    "id": "Tp3P0zaw0ATc",
    "outputId": "46e8c802-31d1-41f2-cb15-0153d2d8a692",
    "papermill": {
     "duration": 0.034332,
     "end_time": "2022-12-09T14:29:14.585790",
     "exception": false,
     "start_time": "2022-12-09T14:29:14.551458",
     "status": "completed"
    },
    "tags": []
   },
   "outputs": [
    {
     "data": {
      "text/plain": [
       "\"i, me, my, myself, we, our, ours, ourselves, you, you're, you've, you'll, you'd, your, yours, yourself, yourselves, he, him, his, himself, she, she's, her, hers, herself, it, it's, its, itself, they, them, their, theirs, themselves, what, which, who, whom, this, that, that'll, these, those, am, is, are, was, were, be, been, being, have, has, had, having, do, does, did, doing, a, an, the, and, but, if, or, because, as, until, while, of, at, by, for, with, about, against, between, into, through, during, before, after, above, below, to, from, up, down, in, out, on, off, over, under, again, further, then, once, here, there, when, where, why, how, all, any, both, each, few, more, most, other, some, such, no, nor, not, only, own, same, so, than, too, very, s, t, can, will, just, don, don't, should, should've, now, d, ll, m, o, re, ve, y, ain, aren, aren't, couldn, couldn't, didn, didn't, doesn, doesn't, hadn, hadn't, hasn, hasn't, haven, haven't, isn, isn't, ma, mightn, mightn't, mustn, mustn't, needn, needn't, shan, shan't, shouldn, shouldn't, wasn, wasn't, weren, weren't, won, won't, wouldn, wouldn't\""
      ]
     },
     "execution_count": 16,
     "metadata": {},
     "output_type": "execute_result"
    }
   ],
   "source": [
    "\", \".join(all_stop_words)"
   ]
  },
  {
   "cell_type": "code",
   "execution_count": 17,
   "id": "fccf1f01",
   "metadata": {
    "execution": {
     "iopub.execute_input": "2022-12-09T14:29:14.634113Z",
     "iopub.status.busy": "2022-12-09T14:29:14.632884Z",
     "iopub.status.idle": "2022-12-09T14:29:14.640556Z",
     "shell.execute_reply": "2022-12-09T14:29:14.639413Z"
    },
    "id": "aggX4uwmeswS",
    "outputId": "ee34b18a-8162-44df-c1c1-3ecf6e2966c3",
    "papermill": {
     "duration": 0.034156,
     "end_time": "2022-12-09T14:29:14.642738",
     "exception": false,
     "start_time": "2022-12-09T14:29:14.608582",
     "status": "completed"
    },
    "tags": []
   },
   "outputs": [
    {
     "data": {
      "text/plain": [
       "76"
      ]
     },
     "execution_count": 17,
     "metadata": {},
     "output_type": "execute_result"
    }
   ],
   "source": [
    "all_stop_words.index(\"about\")"
   ]
  },
  {
   "cell_type": "code",
   "execution_count": 18,
   "id": "71e432e9",
   "metadata": {
    "execution": {
     "iopub.execute_input": "2022-12-09T14:29:14.691783Z",
     "iopub.status.busy": "2022-12-09T14:29:14.690884Z",
     "iopub.status.idle": "2022-12-09T14:29:14.696295Z",
     "shell.execute_reply": "2022-12-09T14:29:14.695373Z"
    },
    "id": "UWS0NJkk0Z2p",
    "papermill": {
     "duration": 0.032422,
     "end_time": "2022-12-09T14:29:14.698626",
     "exception": false,
     "start_time": "2022-12-09T14:29:14.666204",
     "status": "completed"
    },
    "tags": []
   },
   "outputs": [],
   "source": [
    "accepted_stop_words = all_stop_words[:76]"
   ]
  },
  {
   "cell_type": "code",
   "execution_count": 19,
   "id": "97aeaf2e",
   "metadata": {
    "execution": {
     "iopub.execute_input": "2022-12-09T14:29:14.747095Z",
     "iopub.status.busy": "2022-12-09T14:29:14.746616Z",
     "iopub.status.idle": "2022-12-09T14:29:14.753915Z",
     "shell.execute_reply": "2022-12-09T14:29:14.752679Z"
    },
    "id": "Tu_garEvesta",
    "outputId": "ebc6dc7a-10ff-405c-b6a7-9c6fdda77585",
    "papermill": {
     "duration": 0.034106,
     "end_time": "2022-12-09T14:29:14.756382",
     "exception": false,
     "start_time": "2022-12-09T14:29:14.722276",
     "status": "completed"
    },
    "tags": []
   },
   "outputs": [
    {
     "data": {
      "text/plain": [
       "\"i, me, my, myself, we, our, ours, ourselves, you, you're, you've, you'll, you'd, your, yours, yourself, yourselves, he, him, his, himself, she, she's, her, hers, herself, it, it's, its, itself, they, them, their, theirs, themselves, what, which, who, whom, this, that, that'll, these, those, am, is, are, was, were, be, been, being, have, has, had, having, do, does, did, doing, a, an, the, and, but, if, or, because, as, until, while, of, at, by, for, with\""
      ]
     },
     "execution_count": 19,
     "metadata": {},
     "output_type": "execute_result"
    }
   ],
   "source": [
    "\", \".join(accepted_stop_words)"
   ]
  },
  {
   "cell_type": "code",
   "execution_count": 20,
   "id": "3ba6f5fb",
   "metadata": {
    "execution": {
     "iopub.execute_input": "2022-12-09T14:29:14.806554Z",
     "iopub.status.busy": "2022-12-09T14:29:14.806121Z",
     "iopub.status.idle": "2022-12-09T14:29:14.813058Z",
     "shell.execute_reply": "2022-12-09T14:29:14.811606Z"
    },
    "id": "ws8hnnBS6V1Z",
    "papermill": {
     "duration": 0.036452,
     "end_time": "2022-12-09T14:29:14.815733",
     "exception": false,
     "start_time": "2022-12-09T14:29:14.779281",
     "status": "completed"
    },
    "tags": []
   },
   "outputs": [],
   "source": [
    "def tokenize(text):\n",
    "    return [tokens.lower() for tokens in word_tokenize(text) if tokens.isalpha()]"
   ]
  },
  {
   "cell_type": "code",
   "execution_count": 21,
   "id": "95f9fd95",
   "metadata": {
    "execution": {
     "iopub.execute_input": "2022-12-09T14:29:14.863728Z",
     "iopub.status.busy": "2022-12-09T14:29:14.863255Z",
     "iopub.status.idle": "2022-12-09T14:29:14.870513Z",
     "shell.execute_reply": "2022-12-09T14:29:14.869690Z"
    },
    "id": "QtkGhv-T6gLl",
    "outputId": "e2c52566-281d-43d4-cb1a-b8b4265db912",
    "papermill": {
     "duration": 0.033845,
     "end_time": "2022-12-09T14:29:14.872694",
     "exception": false,
     "start_time": "2022-12-09T14:29:14.838849",
     "status": "completed"
    },
    "tags": []
   },
   "outputs": [
    {
     "data": {
      "text/plain": [
       "['a',\n",
       " 'series',\n",
       " 'of',\n",
       " 'escapades',\n",
       " 'demonstrating',\n",
       " 'the',\n",
       " 'adage',\n",
       " 'that',\n",
       " 'what',\n",
       " 'is',\n",
       " 'good',\n",
       " 'for',\n",
       " 'the',\n",
       " 'goose',\n",
       " 'is',\n",
       " 'also',\n",
       " 'good',\n",
       " 'for',\n",
       " 'the',\n",
       " 'gander',\n",
       " 'some',\n",
       " 'of',\n",
       " 'which',\n",
       " 'occasionally',\n",
       " 'amuses',\n",
       " 'but',\n",
       " 'none',\n",
       " 'of',\n",
       " 'which',\n",
       " 'amounts',\n",
       " 'to',\n",
       " 'much',\n",
       " 'of',\n",
       " 'a',\n",
       " 'story']"
      ]
     },
     "execution_count": 21,
     "metadata": {},
     "output_type": "execute_result"
    }
   ],
   "source": [
    "tokenize(q)"
   ]
  },
  {
   "cell_type": "code",
   "execution_count": 22,
   "id": "02bf435e",
   "metadata": {
    "execution": {
     "iopub.execute_input": "2022-12-09T14:29:14.923595Z",
     "iopub.status.busy": "2022-12-09T14:29:14.923064Z",
     "iopub.status.idle": "2022-12-09T14:29:14.928574Z",
     "shell.execute_reply": "2022-12-09T14:29:14.927247Z"
    },
    "id": "Xl-NWRL4esq8",
    "papermill": {
     "duration": 0.033804,
     "end_time": "2022-12-09T14:29:14.930894",
     "exception": false,
     "start_time": "2022-12-09T14:29:14.897090",
     "status": "completed"
    },
    "tags": []
   },
   "outputs": [],
   "source": [
    "from sklearn.feature_extraction.text import TfidfVectorizer"
   ]
  },
  {
   "cell_type": "code",
   "execution_count": 23,
   "id": "5299f5a8",
   "metadata": {
    "execution": {
     "iopub.execute_input": "2022-12-09T14:29:14.978813Z",
     "iopub.status.busy": "2022-12-09T14:29:14.978284Z",
     "iopub.status.idle": "2022-12-09T14:29:14.984666Z",
     "shell.execute_reply": "2022-12-09T14:29:14.983327Z"
    },
    "id": "7re6Uh_l03vY",
    "papermill": {
     "duration": 0.033264,
     "end_time": "2022-12-09T14:29:14.987196",
     "exception": false,
     "start_time": "2022-12-09T14:29:14.953932",
     "status": "completed"
    },
    "tags": []
   },
   "outputs": [],
   "source": [
    "vectorizer = TfidfVectorizer(lowercase=True,\n",
    "                             tokenizer = tokenize,\n",
    "                             stop_words = accepted_stop_words,\n",
    "                             ngram_range=(1,2),\n",
    "                             max_features=5000)"
   ]
  },
  {
   "cell_type": "code",
   "execution_count": 24,
   "id": "12da138f",
   "metadata": {
    "execution": {
     "iopub.execute_input": "2022-12-09T14:29:15.036061Z",
     "iopub.status.busy": "2022-12-09T14:29:15.035609Z",
     "iopub.status.idle": "2022-12-09T14:29:35.229974Z",
     "shell.execute_reply": "2022-12-09T14:29:35.228431Z"
    },
    "id": "PmPLT4Lf0uFT",
    "outputId": "d3b5a98b-c52b-4ec6-c44a-6c1640667e95",
    "papermill": {
     "duration": 20.222168,
     "end_time": "2022-12-09T14:29:35.232762",
     "exception": false,
     "start_time": "2022-12-09T14:29:15.010594",
     "status": "completed"
    },
    "tags": []
   },
   "outputs": [
    {
     "name": "stdout",
     "output_type": "stream",
     "text": [
      "CPU times: total: 15.6 s\n",
      "Wall time: 15.6 s\n"
     ]
    }
   ],
   "source": [
    "%%time\n",
    "inputs = vectorizer.fit_transform(train_tsv.Phrase)"
   ]
  },
  {
   "cell_type": "code",
   "execution_count": 25,
   "id": "990012a0",
   "metadata": {
    "execution": {
     "iopub.execute_input": "2022-12-09T14:29:35.282867Z",
     "iopub.status.busy": "2022-12-09T14:29:35.281764Z",
     "iopub.status.idle": "2022-12-09T14:29:35.289344Z",
     "shell.execute_reply": "2022-12-09T14:29:35.288177Z"
    },
    "id": "7wQ4BQsR1lNg",
    "outputId": "941cccb4-12e6-4226-9288-0cdc31d99a8d",
    "papermill": {
     "duration": 0.035315,
     "end_time": "2022-12-09T14:29:35.292115",
     "exception": false,
     "start_time": "2022-12-09T14:29:35.256800",
     "status": "completed"
    },
    "tags": []
   },
   "outputs": [
    {
     "data": {
      "text/plain": [
       "(156060, 5000)"
      ]
     },
     "execution_count": 25,
     "metadata": {},
     "output_type": "execute_result"
    }
   ],
   "source": [
    "inputs.shape"
   ]
  },
  {
   "cell_type": "code",
   "execution_count": 26,
   "id": "ae88c52b",
   "metadata": {
    "execution": {
     "iopub.execute_input": "2022-12-09T14:29:35.342646Z",
     "iopub.status.busy": "2022-12-09T14:29:35.342147Z",
     "iopub.status.idle": "2022-12-09T14:29:35.350373Z",
     "shell.execute_reply": "2022-12-09T14:29:35.348998Z"
    },
    "id": "BYshe-Mq0ciZ",
    "outputId": "f186b9f0-e765-432a-8a8f-d883c8ebfbbd",
    "papermill": {
     "duration": 0.036878,
     "end_time": "2022-12-09T14:29:35.352935",
     "exception": false,
     "start_time": "2022-12-09T14:29:35.316057",
     "status": "completed"
    },
    "tags": []
   },
   "outputs": [
    {
     "data": {
      "text/plain": [
       "array([[0., 0., 0., ..., 0., 0., 0.]])"
      ]
     },
     "execution_count": 26,
     "metadata": {},
     "output_type": "execute_result"
    }
   ],
   "source": [
    "inputs[5].toarray()"
   ]
  },
  {
   "cell_type": "code",
   "execution_count": 27,
   "id": "68f065ba",
   "metadata": {
    "execution": {
     "iopub.execute_input": "2022-12-09T14:29:35.403350Z",
     "iopub.status.busy": "2022-12-09T14:29:35.402941Z",
     "iopub.status.idle": "2022-12-09T14:29:43.698941Z",
     "shell.execute_reply": "2022-12-09T14:29:43.697338Z"
    },
    "id": "5quhtu9Q2I1s",
    "papermill": {
     "duration": 8.325149,
     "end_time": "2022-12-09T14:29:43.701906",
     "exception": false,
     "start_time": "2022-12-09T14:29:35.376757",
     "status": "completed"
    },
    "tags": []
   },
   "outputs": [],
   "source": [
    "test_inputs = vectorizer.transform(test_tsv.Phrase)"
   ]
  },
  {
   "cell_type": "code",
   "execution_count": 28,
   "id": "856f8481",
   "metadata": {
    "execution": {
     "iopub.execute_input": "2022-12-09T14:29:43.753492Z",
     "iopub.status.busy": "2022-12-09T14:29:43.753048Z",
     "iopub.status.idle": "2022-12-09T14:29:43.760883Z",
     "shell.execute_reply": "2022-12-09T14:29:43.759489Z"
    },
    "id": "z-90SgIx301M",
    "outputId": "0cd812cf-55af-42cd-e274-735501cc9f0e",
    "papermill": {
     "duration": 0.036572,
     "end_time": "2022-12-09T14:29:43.763267",
     "exception": false,
     "start_time": "2022-12-09T14:29:43.726695",
     "status": "completed"
    },
    "tags": []
   },
   "outputs": [
    {
     "data": {
      "text/plain": [
       "(66292, 5000)"
      ]
     },
     "execution_count": 28,
     "metadata": {},
     "output_type": "execute_result"
    }
   ],
   "source": [
    "test_inputs.shape"
   ]
  },
  {
   "cell_type": "code",
   "execution_count": 30,
   "id": "50fcf0bc",
   "metadata": {
    "execution": {
     "iopub.execute_input": "2022-12-09T14:29:43.812686Z",
     "iopub.status.busy": "2022-12-09T14:29:43.812248Z",
     "iopub.status.idle": "2022-12-09T14:29:43.840193Z",
     "shell.execute_reply": "2022-12-09T14:29:43.839178Z"
    },
    "id": "QwAZ50kn1Spe",
    "papermill": {
     "duration": 0.055589,
     "end_time": "2022-12-09T14:29:43.842745",
     "exception": false,
     "start_time": "2022-12-09T14:29:43.787156",
     "status": "completed"
    },
    "tags": []
   },
   "outputs": [],
   "source": [
    "submission = pd.read_csv(\"sampleSubmission.csv\")"
   ]
  },
  {
   "cell_type": "markdown",
   "id": "c2f8aa44",
   "metadata": {
    "id": "N83nLs4juO67",
    "papermill": {
     "duration": 0.024507,
     "end_time": "2022-12-09T14:29:43.892700",
     "exception": false,
     "start_time": "2022-12-09T14:29:43.868193",
     "status": "completed"
    },
    "tags": []
   },
   "source": [
    "### Transform Training & Test Data\n",
    "\n",
    "* Transform phrases from training set\n",
    "* Transform phrases from test set\n",
    "* Look at some example values"
   ]
  },
  {
   "cell_type": "code",
   "execution_count": 31,
   "id": "9a242975",
   "metadata": {
    "execution": {
     "iopub.execute_input": "2022-12-09T14:29:43.942925Z",
     "iopub.status.busy": "2022-12-09T14:29:43.942458Z",
     "iopub.status.idle": "2022-12-09T14:29:43.951464Z",
     "shell.execute_reply": "2022-12-09T14:29:43.950068Z"
    },
    "id": "B6WXWiQzuOcX",
    "outputId": "eb2e2a56-f3e3-4b96-a183-753ff5772436",
    "papermill": {
     "duration": 0.037724,
     "end_time": "2022-12-09T14:29:43.953939",
     "exception": false,
     "start_time": "2022-12-09T14:29:43.916215",
     "status": "completed"
    },
    "tags": []
   },
   "outputs": [
    {
     "data": {
      "text/plain": [
       "(156060, 5000)"
      ]
     },
     "execution_count": 31,
     "metadata": {},
     "output_type": "execute_result"
    }
   ],
   "source": [
    "inputs.shape"
   ]
  },
  {
   "cell_type": "code",
   "execution_count": 32,
   "id": "2f0f3696",
   "metadata": {
    "execution": {
     "iopub.execute_input": "2022-12-09T14:29:44.004807Z",
     "iopub.status.busy": "2022-12-09T14:29:44.004352Z",
     "iopub.status.idle": "2022-12-09T14:29:44.011427Z",
     "shell.execute_reply": "2022-12-09T14:29:44.010593Z"
    },
    "id": "0BDzHuBbuPSz",
    "outputId": "d1e23fd9-4240-4216-d480-ee6ea4881373",
    "papermill": {
     "duration": 0.035323,
     "end_time": "2022-12-09T14:29:44.013627",
     "exception": false,
     "start_time": "2022-12-09T14:29:43.978304",
     "status": "completed"
    },
    "tags": []
   },
   "outputs": [
    {
     "data": {
      "text/plain": [
       "(66292, 5000)"
      ]
     },
     "execution_count": 32,
     "metadata": {},
     "output_type": "execute_result"
    }
   ],
   "source": [
    "test_inputs.shape"
   ]
  },
  {
   "cell_type": "code",
   "execution_count": 33,
   "id": "7123e663",
   "metadata": {
    "execution": {
     "iopub.execute_input": "2022-12-09T14:29:44.066163Z",
     "iopub.status.busy": "2022-12-09T14:29:44.065696Z",
     "iopub.status.idle": "2022-12-09T14:29:44.079086Z",
     "shell.execute_reply": "2022-12-09T14:29:44.078067Z"
    },
    "id": "sEnfZpS83eUr",
    "outputId": "2a54974a-967c-41e7-abbe-750b7f6943ef",
    "papermill": {
     "duration": 0.04357,
     "end_time": "2022-12-09T14:29:44.081623",
     "exception": false,
     "start_time": "2022-12-09T14:29:44.038053",
     "status": "completed"
    },
    "tags": []
   },
   "outputs": [
    {
     "data": {
      "text/plain": [
       "array(['abandon', 'ability', 'ability to', 'able', 'able to', 'about',\n",
       "       'about characters', 'about film', 'about growing', 'about how',\n",
       "       'about movie', 'about nothing', 'about one', 'about something',\n",
       "       'about two', 'above', 'absolute', 'absolutely', 'absorbing',\n",
       "       'abstract', 'absurd', 'absurdity', 'abuse', 'academy', 'accent',\n",
       "       'accents', 'accept', 'acceptable', 'access', 'accessible',\n",
       "       'accomplished', 'account', 'accurate', 'ache', 'achievement',\n",
       "       'achieves', 'achingly', 'across', 'act', 'acted', 'acting',\n",
       "       'action', 'action film', 'action films', 'action flick',\n",
       "       'action hero', 'action movie', 'action sequences', 'actions',\n",
       "       'actor', 'actors', 'actors in', 'actress', 'actresses', 'acts',\n",
       "       'actual', 'actually', 'ad', 'adam', 'adam sandler', 'adams',\n",
       "       'adaptation', 'adapted', 'add', 'add up', 'added', 'addition',\n",
       "       'addition to', 'adds', 'adequate', 'admirable', 'admire', 'admit',\n",
       "       'admittedly', 'adolescence', 'adolescent', 'adult', 'adults',\n",
       "       'advantage', 'adventure', 'adventures', 'adventurous', 'advice',\n",
       "       'affair', 'affecting', 'affection', 'affirming', 'afraid',\n",
       "       'afraid to', 'african', 'after', 'after all', 'after another',\n",
       "       'afternoon', 'again', 'against', 'age', 'agent', 'ages', 'aging'],\n",
       "      dtype=object)"
      ]
     },
     "execution_count": 33,
     "metadata": {},
     "output_type": "execute_result"
    }
   ],
   "source": [
    "vectorizer.get_feature_names_out()[:100]"
   ]
  },
  {
   "cell_type": "code",
   "execution_count": 34,
   "id": "f82df427",
   "metadata": {
    "execution": {
     "iopub.execute_input": "2022-12-09T14:29:44.133587Z",
     "iopub.status.busy": "2022-12-09T14:29:44.133134Z",
     "iopub.status.idle": "2022-12-09T14:29:44.140494Z",
     "shell.execute_reply": "2022-12-09T14:29:44.139307Z"
    },
    "id": "QLngc6g5yspe",
    "outputId": "e6608dad-c4db-4682-fbf0-6668c903b022",
    "papermill": {
     "duration": 0.037399,
     "end_time": "2022-12-09T14:29:44.143227",
     "exception": false,
     "start_time": "2022-12-09T14:29:44.105828",
     "status": "completed"
    },
    "tags": []
   },
   "outputs": [
    {
     "data": {
      "text/plain": [
       "'A series of escapades demonstrating the adage that what is good for the goose is also good for the gander , some of which occasionally amuses but none of which amounts to much of a story .'"
      ]
     },
     "execution_count": 34,
     "metadata": {},
     "output_type": "execute_result"
    }
   ],
   "source": [
    "train_tsv.Phrase.values[0]"
   ]
  },
  {
   "cell_type": "code",
   "execution_count": 35,
   "id": "3bf42158",
   "metadata": {
    "execution": {
     "iopub.execute_input": "2022-12-09T14:29:44.195788Z",
     "iopub.status.busy": "2022-12-09T14:29:44.195345Z",
     "iopub.status.idle": "2022-12-09T14:29:44.200476Z",
     "shell.execute_reply": "2022-12-09T14:29:44.199123Z"
    },
    "id": "xJPf10q8Al7T",
    "papermill": {
     "duration": 0.034961,
     "end_time": "2022-12-09T14:29:44.203031",
     "exception": false,
     "start_time": "2022-12-09T14:29:44.168070",
     "status": "completed"
    },
    "tags": []
   },
   "outputs": [],
   "source": [
    "import numpy as np"
   ]
  },
  {
   "cell_type": "code",
   "execution_count": 36,
   "id": "eb760191",
   "metadata": {
    "execution": {
     "iopub.execute_input": "2022-12-09T14:29:44.255246Z",
     "iopub.status.busy": "2022-12-09T14:29:44.254013Z",
     "iopub.status.idle": "2022-12-09T14:29:44.267428Z",
     "shell.execute_reply": "2022-12-09T14:29:44.265933Z"
    },
    "id": "7dS5hDtLAUNi",
    "papermill": {
     "duration": 0.042839,
     "end_time": "2022-12-09T14:29:44.270679",
     "exception": false,
     "start_time": "2022-12-09T14:29:44.227840",
     "status": "completed"
    },
    "tags": []
   },
   "outputs": [],
   "source": [
    "index = np.where(vectorizer.get_feature_names_out()==\"series\")"
   ]
  },
  {
   "cell_type": "code",
   "execution_count": 37,
   "id": "fd064771",
   "metadata": {
    "execution": {
     "iopub.execute_input": "2022-12-09T14:29:44.322134Z",
     "iopub.status.busy": "2022-12-09T14:29:44.321732Z",
     "iopub.status.idle": "2022-12-09T14:29:44.328126Z",
     "shell.execute_reply": "2022-12-09T14:29:44.327221Z"
    },
    "id": "Otuzs0UsApEB",
    "outputId": "6b47454b-b02d-41b0-eb31-da1e5a3f48ed",
    "papermill": {
     "duration": 0.034994,
     "end_time": "2022-12-09T14:29:44.330773",
     "exception": false,
     "start_time": "2022-12-09T14:29:44.295779",
     "status": "completed"
    },
    "tags": []
   },
   "outputs": [
    {
     "data": {
      "text/plain": [
       "(array([3777], dtype=int64),)"
      ]
     },
     "execution_count": 37,
     "metadata": {},
     "output_type": "execute_result"
    }
   ],
   "source": [
    "index"
   ]
  },
  {
   "cell_type": "code",
   "execution_count": 38,
   "id": "df523165",
   "metadata": {
    "execution": {
     "iopub.execute_input": "2022-12-09T14:29:44.387510Z",
     "iopub.status.busy": "2022-12-09T14:29:44.387098Z",
     "iopub.status.idle": "2022-12-09T14:29:44.394058Z",
     "shell.execute_reply": "2022-12-09T14:29:44.393099Z"
    },
    "id": "z9JRRv_Q4QNf",
    "outputId": "f3ef75b0-83c4-49e9-b532-3f586490e0c8",
    "papermill": {
     "duration": 0.038076,
     "end_time": "2022-12-09T14:29:44.396275",
     "exception": false,
     "start_time": "2022-12-09T14:29:44.358199",
     "status": "completed"
    },
    "tags": []
   },
   "outputs": [
    {
     "data": {
      "text/plain": [
       "5000"
      ]
     },
     "execution_count": 38,
     "metadata": {},
     "output_type": "execute_result"
    }
   ],
   "source": [
    "len(inputs[0].toarray()[0])"
   ]
  },
  {
   "cell_type": "code",
   "execution_count": 39,
   "id": "68904ab0",
   "metadata": {
    "execution": {
     "iopub.execute_input": "2022-12-09T14:29:44.448818Z",
     "iopub.status.busy": "2022-12-09T14:29:44.448312Z",
     "iopub.status.idle": "2022-12-09T14:29:44.457174Z",
     "shell.execute_reply": "2022-12-09T14:29:44.455891Z"
    },
    "id": "S3BOGAerA0Pl",
    "outputId": "61a2bab4-634c-425b-a52f-110c1c32f0d0",
    "papermill": {
     "duration": 0.03853,
     "end_time": "2022-12-09T14:29:44.459767",
     "exception": false,
     "start_time": "2022-12-09T14:29:44.421237",
     "status": "completed"
    },
    "tags": []
   },
   "outputs": [
    {
     "data": {
      "text/plain": [
       "0.2563566715983266"
      ]
     },
     "execution_count": 39,
     "metadata": {},
     "output_type": "execute_result"
    }
   ],
   "source": [
    "inputs[0].toarray()[0][3777]"
   ]
  },
  {
   "cell_type": "code",
   "execution_count": 40,
   "id": "f2beae2c",
   "metadata": {
    "execution": {
     "iopub.execute_input": "2022-12-09T14:29:44.513136Z",
     "iopub.status.busy": "2022-12-09T14:29:44.512725Z",
     "iopub.status.idle": "2022-12-09T14:29:44.525145Z",
     "shell.execute_reply": "2022-12-09T14:29:44.524069Z"
    },
    "id": "qxKKnA9uA_hb",
    "outputId": "423c7921-b7de-4e31-cd17-36b2cd726933",
    "papermill": {
     "duration": 0.042834,
     "end_time": "2022-12-09T14:29:44.528084",
     "exception": false,
     "start_time": "2022-12-09T14:29:44.485250",
     "status": "completed"
    },
    "tags": []
   },
   "outputs": [
    {
     "data": {
      "text/plain": [
       "'series'"
      ]
     },
     "execution_count": 40,
     "metadata": {},
     "output_type": "execute_result"
    }
   ],
   "source": [
    "vectorizer.get_feature_names_out()[3777]"
   ]
  },
  {
   "cell_type": "markdown",
   "id": "0dfa8400",
   "metadata": {
    "id": "TwLM4r3EetEK",
    "papermill": {
     "duration": 0.024857,
     "end_time": "2022-12-09T14:29:44.577852",
     "exception": false,
     "start_time": "2022-12-09T14:29:44.552995",
     "status": "completed"
    },
    "tags": []
   },
   "source": [
    "## Train Baseline Model & Submit to Kaggle\n",
    "\n",
    "1. Split training and validation sets\n",
    "2. Train logistic regression model\n",
    "3. Study predictions on sample phrases\n",
    "4. Make predictions and submit to Kaggle\n",
    "\n",
    "\n"
   ]
  },
  {
   "cell_type": "markdown",
   "id": "41f66963",
   "metadata": {
    "id": "NAZkydfs4wrX",
    "papermill": {
     "duration": 0.027116,
     "end_time": "2022-12-09T14:29:44.630172",
     "exception": false,
     "start_time": "2022-12-09T14:29:44.603056",
     "status": "completed"
    },
    "tags": []
   },
   "source": [
    "### Split Training and Validation Sets\n",
    "\n",
    "Tip: Don't use a random sample for validation set (why?)\n",
    "<div>\n",
    "Because then training and Validation dataset will not be guaranteed to be independent, and we wont get clear picture of the model</div>"
   ]
  },
  {
   "cell_type": "code",
   "execution_count": 41,
   "id": "37b18b96",
   "metadata": {
    "execution": {
     "iopub.execute_input": "2022-12-09T14:29:44.682316Z",
     "iopub.status.busy": "2022-12-09T14:29:44.681344Z",
     "iopub.status.idle": "2022-12-09T14:29:44.689101Z",
     "shell.execute_reply": "2022-12-09T14:29:44.688094Z"
    },
    "id": "A95fM3SXCEDH",
    "outputId": "2feca936-c4d8-409a-9a95-435442915b97",
    "papermill": {
     "duration": 0.035698,
     "end_time": "2022-12-09T14:29:44.691403",
     "exception": false,
     "start_time": "2022-12-09T14:29:44.655705",
     "status": "completed"
    },
    "tags": []
   },
   "outputs": [
    {
     "data": {
      "text/plain": [
       "(156060, 5000)"
      ]
     },
     "execution_count": 41,
     "metadata": {},
     "output_type": "execute_result"
    }
   ],
   "source": [
    "inputs.shape"
   ]
  },
  {
   "cell_type": "code",
   "execution_count": 42,
   "id": "269df6e7",
   "metadata": {
    "execution": {
     "iopub.execute_input": "2022-12-09T14:29:44.743373Z",
     "iopub.status.busy": "2022-12-09T14:29:44.742968Z",
     "iopub.status.idle": "2022-12-09T14:29:44.748490Z",
     "shell.execute_reply": "2022-12-09T14:29:44.747162Z"
    },
    "id": "dR-kiHMlCA9L",
    "papermill": {
     "duration": 0.034365,
     "end_time": "2022-12-09T14:29:44.751207",
     "exception": false,
     "start_time": "2022-12-09T14:29:44.716842",
     "status": "completed"
    },
    "tags": []
   },
   "outputs": [],
   "source": [
    "Training_sample_size = 114_500"
   ]
  },
  {
   "cell_type": "code",
   "execution_count": 43,
   "id": "ee5fee67",
   "metadata": {
    "execution": {
     "iopub.execute_input": "2022-12-09T14:29:44.803337Z",
     "iopub.status.busy": "2022-12-09T14:29:44.802874Z",
     "iopub.status.idle": "2022-12-09T14:29:44.817767Z",
     "shell.execute_reply": "2022-12-09T14:29:44.816799Z"
    },
    "id": "_9wZLI9i4rlB",
    "outputId": "30a78fe3-06ef-46bb-8e91-f9fe92fea089",
    "papermill": {
     "duration": 0.043348,
     "end_time": "2022-12-09T14:29:44.820024",
     "exception": false,
     "start_time": "2022-12-09T14:29:44.776676",
     "status": "completed"
    },
    "tags": []
   },
   "outputs": [
    {
     "data": {
      "text/plain": [
       "((114500, 5000), (114500,))"
      ]
     },
     "execution_count": 43,
     "metadata": {},
     "output_type": "execute_result"
    }
   ],
   "source": [
    "X_train = inputs[:Training_sample_size]\n",
    "y_train = train_tsv.Sentiment.values[:Training_sample_size]\n",
    "X_train.shape, y_train.shape"
   ]
  },
  {
   "cell_type": "code",
   "execution_count": 44,
   "id": "7b3490a4",
   "metadata": {
    "execution": {
     "iopub.execute_input": "2022-12-09T14:29:44.874926Z",
     "iopub.status.busy": "2022-12-09T14:29:44.874495Z",
     "iopub.status.idle": "2022-12-09T14:29:44.885060Z",
     "shell.execute_reply": "2022-12-09T14:29:44.883763Z"
    },
    "id": "FnALsBHr4aQt",
    "outputId": "e42bcb3a-0bab-4dd1-f71a-e63eb0ae0643",
    "papermill": {
     "duration": 0.039639,
     "end_time": "2022-12-09T14:29:44.887803",
     "exception": false,
     "start_time": "2022-12-09T14:29:44.848164",
     "status": "completed"
    },
    "tags": []
   },
   "outputs": [
    {
     "data": {
      "text/plain": [
       "((41560, 5000), (41560,))"
      ]
     },
     "execution_count": 44,
     "metadata": {},
     "output_type": "execute_result"
    }
   ],
   "source": [
    "X_val = inputs[Training_sample_size:]\n",
    "y_val = train_tsv.Sentiment.values[Training_sample_size:]\n",
    "X_val.shape, y_val.shape"
   ]
  },
  {
   "cell_type": "code",
   "execution_count": 45,
   "id": "7072f4e4",
   "metadata": {
    "execution": {
     "iopub.execute_input": "2022-12-09T14:29:44.940362Z",
     "iopub.status.busy": "2022-12-09T14:29:44.939924Z",
     "iopub.status.idle": "2022-12-09T14:29:44.947178Z",
     "shell.execute_reply": "2022-12-09T14:29:44.946298Z"
    },
    "id": "EF8dHyrF4S3R",
    "outputId": "4501de5b-4cac-4cc5-b24d-583c7a025178",
    "papermill": {
     "duration": 0.036604,
     "end_time": "2022-12-09T14:29:44.949928",
     "exception": false,
     "start_time": "2022-12-09T14:29:44.913324",
     "status": "completed"
    },
    "tags": []
   },
   "outputs": [
    {
     "data": {
      "text/plain": [
       "<1x5000 sparse matrix of type '<class 'numpy.float64'>'\n",
       "\twith 2 stored elements in Compressed Sparse Row format>"
      ]
     },
     "execution_count": 45,
     "metadata": {},
     "output_type": "execute_result"
    }
   ],
   "source": [
    "X_train[5]"
   ]
  },
  {
   "cell_type": "code",
   "execution_count": 46,
   "id": "cf4d5d86",
   "metadata": {
    "execution": {
     "iopub.execute_input": "2022-12-09T14:29:45.004082Z",
     "iopub.status.busy": "2022-12-09T14:29:45.003626Z",
     "iopub.status.idle": "2022-12-09T14:29:45.011622Z",
     "shell.execute_reply": "2022-12-09T14:29:45.010140Z"
    },
    "id": "JXg0N5Tset2n",
    "outputId": "71e1a77e-2cf4-4be4-b332-4eeb90d191bc",
    "papermill": {
     "duration": 0.03918,
     "end_time": "2022-12-09T14:29:45.014290",
     "exception": false,
     "start_time": "2022-12-09T14:29:44.975110",
     "status": "completed"
    },
    "tags": []
   },
   "outputs": [
    {
     "data": {
      "text/plain": [
       "2"
      ]
     },
     "execution_count": 46,
     "metadata": {},
     "output_type": "execute_result"
    }
   ],
   "source": [
    "y_train[5]"
   ]
  },
  {
   "cell_type": "code",
   "execution_count": null,
   "id": "ebf0a329",
   "metadata": {
    "id": "5-VO-Ad25CUt",
    "papermill": {
     "duration": 0.025712,
     "end_time": "2022-12-09T14:29:45.065430",
     "exception": false,
     "start_time": "2022-12-09T14:29:45.039718",
     "status": "completed"
    },
    "tags": []
   },
   "outputs": [],
   "source": []
  },
  {
   "cell_type": "code",
   "execution_count": null,
   "id": "db2ae6ab",
   "metadata": {
    "id": "T5IWqURF5ELL",
    "papermill": {
     "duration": 0.02517,
     "end_time": "2022-12-09T14:29:45.116289",
     "exception": false,
     "start_time": "2022-12-09T14:29:45.091119",
     "status": "completed"
    },
    "tags": []
   },
   "outputs": [],
   "source": []
  },
  {
   "cell_type": "markdown",
   "id": "7a14b0a9",
   "metadata": {
    "id": "DHoTrGTM5Bo9",
    "papermill": {
     "duration": 0.025047,
     "end_time": "2022-12-09T14:29:45.166089",
     "exception": false,
     "start_time": "2022-12-09T14:29:45.141042",
     "status": "completed"
    },
    "tags": []
   },
   "source": [
    "### Train Logistic Regression Model\n",
    "\n"
   ]
  },
  {
   "cell_type": "code",
   "execution_count": 47,
   "id": "ea22282c",
   "metadata": {
    "execution": {
     "iopub.execute_input": "2022-12-09T14:29:45.219344Z",
     "iopub.status.busy": "2022-12-09T14:29:45.218897Z",
     "iopub.status.idle": "2022-12-09T14:29:45.223930Z",
     "shell.execute_reply": "2022-12-09T14:29:45.222918Z"
    },
    "id": "jEHCuRAt7swN",
    "papermill": {
     "duration": 0.035244,
     "end_time": "2022-12-09T14:29:45.226233",
     "exception": false,
     "start_time": "2022-12-09T14:29:45.190989",
     "status": "completed"
    },
    "tags": []
   },
   "outputs": [],
   "source": [
    "# from sklearn.linear_model import L/ogisticRegression"
   ]
  },
  {
   "cell_type": "code",
   "execution_count": 48,
   "id": "cdf1c16a",
   "metadata": {
    "execution": {
     "iopub.execute_input": "2022-12-09T14:29:45.279020Z",
     "iopub.status.busy": "2022-12-09T14:29:45.278596Z",
     "iopub.status.idle": "2022-12-09T14:29:45.283295Z",
     "shell.execute_reply": "2022-12-09T14:29:45.282074Z"
    },
    "id": "7klXZoh-7st2",
    "papermill": {
     "duration": 0.03356,
     "end_time": "2022-12-09T14:29:45.286036",
     "exception": false,
     "start_time": "2022-12-09T14:29:45.252476",
     "status": "completed"
    },
    "tags": []
   },
   "outputs": [],
   "source": [
    "# lreg = LogisticRegression(solver=\"saga\", \n",
    "#                           class_weight = \"balanced\",\n",
    "#                           max_iter = 20000)"
   ]
  },
  {
   "cell_type": "code",
   "execution_count": 49,
   "id": "222b4f10",
   "metadata": {
    "execution": {
     "iopub.execute_input": "2022-12-09T14:29:45.339849Z",
     "iopub.status.busy": "2022-12-09T14:29:45.339387Z",
     "iopub.status.idle": "2022-12-09T14:29:45.343975Z",
     "shell.execute_reply": "2022-12-09T14:29:45.343000Z"
    },
    "id": "THyNzV9J7srO",
    "outputId": "427d6daf-814b-43bb-bcf5-3c4f2ae7ee6e",
    "papermill": {
     "duration": 0.034507,
     "end_time": "2022-12-09T14:29:45.346000",
     "exception": false,
     "start_time": "2022-12-09T14:29:45.311493",
     "status": "completed"
    },
    "tags": []
   },
   "outputs": [],
   "source": [
    "# %%time\n",
    "# lreg.fit(X_train,y_train)"
   ]
  },
  {
   "cell_type": "code",
   "execution_count": 50,
   "id": "06ec6548",
   "metadata": {
    "execution": {
     "iopub.execute_input": "2022-12-09T14:29:45.399449Z",
     "iopub.status.busy": "2022-12-09T14:29:45.398995Z",
     "iopub.status.idle": "2022-12-09T14:29:45.404322Z",
     "shell.execute_reply": "2022-12-09T14:29:45.403076Z"
    },
    "id": "qQ0HAnwP8k1S",
    "papermill": {
     "duration": 0.035496,
     "end_time": "2022-12-09T14:29:45.406620",
     "exception": false,
     "start_time": "2022-12-09T14:29:45.371124",
     "status": "completed"
    },
    "tags": []
   },
   "outputs": [],
   "source": [
    "# y_hat = lreg.predict(X_val)"
   ]
  },
  {
   "cell_type": "code",
   "execution_count": 51,
   "id": "ef53e30b",
   "metadata": {
    "execution": {
     "iopub.execute_input": "2022-12-09T14:29:45.459838Z",
     "iopub.status.busy": "2022-12-09T14:29:45.459370Z",
     "iopub.status.idle": "2022-12-09T14:29:45.465063Z",
     "shell.execute_reply": "2022-12-09T14:29:45.463897Z"
    },
    "id": "TFXjhxfS70Ny",
    "outputId": "85f1f74e-966f-4d0e-e5fa-e8234437df45",
    "papermill": {
     "duration": 0.034604,
     "end_time": "2022-12-09T14:29:45.467404",
     "exception": false,
     "start_time": "2022-12-09T14:29:45.432800",
     "status": "completed"
    },
    "tags": []
   },
   "outputs": [],
   "source": [
    "from sklearn.metrics import accuracy_score\n",
    "# accuracy_score(y_val, y_hat)"
   ]
  },
  {
   "cell_type": "code",
   "execution_count": 52,
   "id": "09d2ca32",
   "metadata": {
    "execution": {
     "iopub.execute_input": "2022-12-09T14:29:45.520399Z",
     "iopub.status.busy": "2022-12-09T14:29:45.519979Z",
     "iopub.status.idle": "2022-12-09T14:29:45.524972Z",
     "shell.execute_reply": "2022-12-09T14:29:45.523804Z"
    },
    "id": "lT_-tby27so2",
    "papermill": {
     "duration": 0.034364,
     "end_time": "2022-12-09T14:29:45.527521",
     "exception": false,
     "start_time": "2022-12-09T14:29:45.493157",
     "status": "completed"
    },
    "tags": []
   },
   "outputs": [],
   "source": [
    "# prediction = lreg.predict(X_train)"
   ]
  },
  {
   "cell_type": "markdown",
   "id": "34fcc39e",
   "metadata": {
    "id": "RS2HgpkL_J0G",
    "papermill": {
     "duration": 0.024601,
     "end_time": "2022-12-09T14:29:45.577371",
     "exception": false,
     "start_time": "2022-12-09T14:29:45.552770",
     "status": "completed"
    },
    "tags": []
   },
   "source": [
    "### Study Predictions on Sample Inputs"
   ]
  },
  {
   "cell_type": "code",
   "execution_count": 53,
   "id": "2b0dcddc",
   "metadata": {
    "execution": {
     "iopub.execute_input": "2022-12-09T14:29:45.630611Z",
     "iopub.status.busy": "2022-12-09T14:29:45.629815Z",
     "iopub.status.idle": "2022-12-09T14:29:45.634770Z",
     "shell.execute_reply": "2022-12-09T14:29:45.633885Z"
    },
    "id": "nh73RiRqGgs5",
    "outputId": "2b4bbeb0-7589-41d3-fc8a-90983574f7e5",
    "papermill": {
     "duration": 0.033989,
     "end_time": "2022-12-09T14:29:45.637288",
     "exception": false,
     "start_time": "2022-12-09T14:29:45.603299",
     "status": "completed"
    },
    "tags": []
   },
   "outputs": [],
   "source": [
    "# train_tsv.Phrase.values[:10]"
   ]
  },
  {
   "cell_type": "code",
   "execution_count": 54,
   "id": "fa5f23b1",
   "metadata": {
    "execution": {
     "iopub.execute_input": "2022-12-09T14:29:45.689568Z",
     "iopub.status.busy": "2022-12-09T14:29:45.688764Z",
     "iopub.status.idle": "2022-12-09T14:29:45.693917Z",
     "shell.execute_reply": "2022-12-09T14:29:45.692879Z"
    },
    "id": "Kvb-G3EU-3sD",
    "outputId": "0c9b20a1-676e-478f-deb0-dcf2bfba4160",
    "papermill": {
     "duration": 0.03434,
     "end_time": "2022-12-09T14:29:45.696513",
     "exception": false,
     "start_time": "2022-12-09T14:29:45.662173",
     "status": "completed"
    },
    "tags": []
   },
   "outputs": [],
   "source": [
    "# prediction[:10]"
   ]
  },
  {
   "cell_type": "code",
   "execution_count": 55,
   "id": "1177d2a3",
   "metadata": {
    "execution": {
     "iopub.execute_input": "2022-12-09T14:29:45.749884Z",
     "iopub.status.busy": "2022-12-09T14:29:45.749113Z",
     "iopub.status.idle": "2022-12-09T14:29:45.753412Z",
     "shell.execute_reply": "2022-12-09T14:29:45.752453Z"
    },
    "id": "96pSFU6Q-3m_",
    "outputId": "44da3084-32d7-40b9-ac14-9e01094e29d8",
    "papermill": {
     "duration": 0.033687,
     "end_time": "2022-12-09T14:29:45.755719",
     "exception": false,
     "start_time": "2022-12-09T14:29:45.722032",
     "status": "completed"
    },
    "tags": []
   },
   "outputs": [],
   "source": [
    "# y_train[:10]"
   ]
  },
  {
   "cell_type": "code",
   "execution_count": null,
   "id": "fcd6b131",
   "metadata": {
    "id": "FRlyVDpu_ARh",
    "papermill": {
     "duration": 0.024226,
     "end_time": "2022-12-09T14:29:45.805195",
     "exception": false,
     "start_time": "2022-12-09T14:29:45.780969",
     "status": "completed"
    },
    "tags": []
   },
   "outputs": [],
   "source": []
  },
  {
   "cell_type": "code",
   "execution_count": null,
   "id": "0c58f8ee",
   "metadata": {
    "id": "SVX3fbskDyGs",
    "papermill": {
     "duration": 0.024194,
     "end_time": "2022-12-09T14:29:45.853817",
     "exception": false,
     "start_time": "2022-12-09T14:29:45.829623",
     "status": "completed"
    },
    "tags": []
   },
   "outputs": [],
   "source": []
  },
  {
   "cell_type": "code",
   "execution_count": null,
   "id": "926f5c4d",
   "metadata": {
    "id": "uUgkh-zfD1HI",
    "papermill": {
     "duration": 0.024482,
     "end_time": "2022-12-09T14:29:45.902994",
     "exception": false,
     "start_time": "2022-12-09T14:29:45.878512",
     "status": "completed"
    },
    "tags": []
   },
   "outputs": [],
   "source": []
  },
  {
   "cell_type": "code",
   "execution_count": null,
   "id": "78bb894e",
   "metadata": {
    "id": "urtcbsfd_AO0",
    "papermill": {
     "duration": 0.024898,
     "end_time": "2022-12-09T14:29:45.952525",
     "exception": false,
     "start_time": "2022-12-09T14:29:45.927627",
     "status": "completed"
    },
    "tags": []
   },
   "outputs": [],
   "source": []
  },
  {
   "cell_type": "markdown",
   "id": "51a73696",
   "metadata": {
    "id": "HkiqfeBneyth",
    "papermill": {
     "duration": 0.025082,
     "end_time": "2022-12-09T14:29:46.003938",
     "exception": false,
     "start_time": "2022-12-09T14:29:45.978856",
     "status": "completed"
    },
    "tags": []
   },
   "source": [
    "### Make Predictions & Submit to Kaggle\n",
    "\n",
    "1. Make predictions on Test Dataset\n",
    "2. Generate & submit CSV on Kaggle\n",
    "3. Add screenshot of your score \n",
    "\n"
   ]
  },
  {
   "cell_type": "code",
   "execution_count": 56,
   "id": "422eaa5a",
   "metadata": {
    "execution": {
     "iopub.execute_input": "2022-12-09T14:29:46.056964Z",
     "iopub.status.busy": "2022-12-09T14:29:46.056238Z",
     "iopub.status.idle": "2022-12-09T14:29:46.060525Z",
     "shell.execute_reply": "2022-12-09T14:29:46.059621Z"
    },
    "id": "jz8W9Nnce31g",
    "papermill": {
     "duration": 0.034132,
     "end_time": "2022-12-09T14:29:46.063277",
     "exception": false,
     "start_time": "2022-12-09T14:29:46.029145",
     "status": "completed"
    },
    "tags": []
   },
   "outputs": [],
   "source": [
    "# sentiment_prediction = lreg.predict(test_inputs)"
   ]
  },
  {
   "cell_type": "code",
   "execution_count": 57,
   "id": "88f8c17c",
   "metadata": {
    "execution": {
     "iopub.execute_input": "2022-12-09T14:29:46.116944Z",
     "iopub.status.busy": "2022-12-09T14:29:46.115581Z",
     "iopub.status.idle": "2022-12-09T14:29:46.121493Z",
     "shell.execute_reply": "2022-12-09T14:29:46.120048Z"
    },
    "id": "RHfHJcBae4e3",
    "papermill": {
     "duration": 0.035569,
     "end_time": "2022-12-09T14:29:46.123932",
     "exception": false,
     "start_time": "2022-12-09T14:29:46.088363",
     "status": "completed"
    },
    "tags": []
   },
   "outputs": [],
   "source": [
    "# submission.Sentiment = sentiment_prediction"
   ]
  },
  {
   "cell_type": "code",
   "execution_count": 58,
   "id": "e5cd4253",
   "metadata": {
    "execution": {
     "iopub.execute_input": "2022-12-09T14:29:46.176961Z",
     "iopub.status.busy": "2022-12-09T14:29:46.175583Z",
     "iopub.status.idle": "2022-12-09T14:29:46.181132Z",
     "shell.execute_reply": "2022-12-09T14:29:46.180097Z"
    },
    "id": "JZ1urPNme4bo",
    "papermill": {
     "duration": 0.034712,
     "end_time": "2022-12-09T14:29:46.183979",
     "exception": false,
     "start_time": "2022-12-09T14:29:46.149267",
     "status": "completed"
    },
    "tags": []
   },
   "outputs": [],
   "source": [
    "# submission.to_csv(\"submission.csv\", index=None)"
   ]
  },
  {
   "cell_type": "code",
   "execution_count": null,
   "id": "31f91317",
   "metadata": {
    "id": "MHUHTmYxEHcV",
    "papermill": {
     "duration": 0.02526,
     "end_time": "2022-12-09T14:29:46.234746",
     "exception": false,
     "start_time": "2022-12-09T14:29:46.209486",
     "status": "completed"
    },
    "tags": []
   },
   "outputs": [],
   "source": []
  },
  {
   "cell_type": "code",
   "execution_count": null,
   "id": "6a944f92",
   "metadata": {
    "id": "HOTojNcWEHZ7",
    "papermill": {
     "duration": 0.024552,
     "end_time": "2022-12-09T14:29:46.286695",
     "exception": false,
     "start_time": "2022-12-09T14:29:46.262143",
     "status": "completed"
    },
    "tags": []
   },
   "outputs": [],
   "source": []
  },
  {
   "cell_type": "markdown",
   "id": "10f1248e",
   "metadata": {
    "id": "8kne2rQq8qL0",
    "papermill": {
     "duration": 0.024713,
     "end_time": "2022-12-09T14:29:46.337093",
     "exception": false,
     "start_time": "2022-12-09T14:29:46.312380",
     "status": "completed"
    },
    "tags": []
   },
   "source": [
    "## Train & Finetune Different ML Models\n",
    "\n",
    "Train & finetune at least 2 other types of models\n",
    "\n",
    "Models to try:\n",
    "- Decision Trees\n",
    "- Random Forests\n",
    "- Gradient Boosting\n",
    "- Naive Bayes\n",
    "- SVM\n",
    "\n",
    "Optional: \n",
    "* Use PCA for dimensionality reduction\n",
    "* Compare classification vs regression models\n",
    "\n"
   ]
  },
  {
   "cell_type": "markdown",
   "id": "9f4d0bd3",
   "metadata": {
    "id": "kW6R3Tks4ALX",
    "papermill": {
     "duration": 0.024619,
     "end_time": "2022-12-09T14:29:46.387010",
     "exception": false,
     "start_time": "2022-12-09T14:29:46.362391",
     "status": "completed"
    },
    "tags": []
   },
   "source": [
    "### Model 1"
   ]
  },
  {
   "cell_type": "code",
   "execution_count": 59,
   "id": "ebe55d8f",
   "metadata": {
    "execution": {
     "iopub.execute_input": "2022-12-09T14:29:46.441910Z",
     "iopub.status.busy": "2022-12-09T14:29:46.441443Z",
     "iopub.status.idle": "2022-12-09T14:29:46.446485Z",
     "shell.execute_reply": "2022-12-09T14:29:46.445234Z"
    },
    "id": "kN-yZN12e4Yz",
    "papermill": {
     "duration": 0.036039,
     "end_time": "2022-12-09T14:29:46.448874",
     "exception": false,
     "start_time": "2022-12-09T14:29:46.412835",
     "status": "completed"
    },
    "tags": []
   },
   "outputs": [],
   "source": [
    "# from sklearn import tree\n",
    "# clf = tree.DecisionTreeClassifier()\n",
    "# clf = clf.fit(X_train,y_train)"
   ]
  },
  {
   "cell_type": "code",
   "execution_count": 60,
   "id": "4b6533d9",
   "metadata": {
    "execution": {
     "iopub.execute_input": "2022-12-09T14:29:46.501732Z",
     "iopub.status.busy": "2022-12-09T14:29:46.501067Z",
     "iopub.status.idle": "2022-12-09T14:29:46.506318Z",
     "shell.execute_reply": "2022-12-09T14:29:46.504951Z"
    },
    "id": "X8f6t6wge4WV",
    "papermill": {
     "duration": 0.035086,
     "end_time": "2022-12-09T14:29:46.508976",
     "exception": false,
     "start_time": "2022-12-09T14:29:46.473890",
     "status": "completed"
    },
    "tags": []
   },
   "outputs": [],
   "source": [
    "# from sklearn.metrics import accuracy_score\n",
    "# y_hat = clf.predict(X_val)\n",
    "# accuracy_score(y_val, y_hat)"
   ]
  },
  {
   "cell_type": "code",
   "execution_count": 61,
   "id": "074c66a7",
   "metadata": {
    "execution": {
     "iopub.execute_input": "2022-12-09T14:29:46.561146Z",
     "iopub.status.busy": "2022-12-09T14:29:46.560741Z",
     "iopub.status.idle": "2022-12-09T14:29:46.564984Z",
     "shell.execute_reply": "2022-12-09T14:29:46.563803Z"
    },
    "papermill": {
     "duration": 0.033097,
     "end_time": "2022-12-09T14:29:46.567410",
     "exception": false,
     "start_time": "2022-12-09T14:29:46.534313",
     "status": "completed"
    },
    "tags": []
   },
   "outputs": [],
   "source": [
    "# prediction = clf.predict(X_train)\n",
    "# accuracy_score(y_train, prediction)"
   ]
  },
  {
   "cell_type": "code",
   "execution_count": 62,
   "id": "1f3ba36a",
   "metadata": {
    "execution": {
     "iopub.execute_input": "2022-12-09T14:29:46.618966Z",
     "iopub.status.busy": "2022-12-09T14:29:46.618541Z",
     "iopub.status.idle": "2022-12-09T14:29:46.622978Z",
     "shell.execute_reply": "2022-12-09T14:29:46.621711Z"
    },
    "id": "lig2PXUCAfqF",
    "papermill": {
     "duration": 0.033126,
     "end_time": "2022-12-09T14:29:46.625443",
     "exception": false,
     "start_time": "2022-12-09T14:29:46.592317",
     "status": "completed"
    },
    "tags": []
   },
   "outputs": [],
   "source": [
    "# sentiment_prediction = clf.predict(test_inputs)\n",
    "# submission.Sentiment = sentiment_prediction\n",
    "# submission.to_csv(\"submission.csv\", index=None)"
   ]
  },
  {
   "cell_type": "markdown",
   "id": "ff1afa89",
   "metadata": {
    "id": "ewoiYmCyAmuZ",
    "outputId": "7a98660c-5c53-4177-9646-377081671071",
    "papermill": {
     "duration": 0.026302,
     "end_time": "2022-12-09T14:29:46.676556",
     "exception": false,
     "start_time": "2022-12-09T14:29:46.650254",
     "status": "completed"
    },
    "tags": []
   },
   "source": [
    "### Model 2"
   ]
  },
  {
   "cell_type": "code",
   "execution_count": 63,
   "id": "27f2bf36",
   "metadata": {
    "execution": {
     "iopub.execute_input": "2022-12-09T14:29:46.730437Z",
     "iopub.status.busy": "2022-12-09T14:29:46.728985Z",
     "iopub.status.idle": "2022-12-09T14:29:46.885591Z",
     "shell.execute_reply": "2022-12-09T14:29:46.884488Z"
    },
    "id": "tExMdRaEBu5E",
    "papermill": {
     "duration": 0.188618,
     "end_time": "2022-12-09T14:29:46.890786",
     "exception": false,
     "start_time": "2022-12-09T14:29:46.702168",
     "status": "completed"
    },
    "tags": []
   },
   "outputs": [],
   "source": [
    "from sklearn.ensemble import RandomForestClassifier"
   ]
  },
  {
   "cell_type": "code",
   "execution_count": 64,
   "id": "9b11eab5",
   "metadata": {
    "execution": {
     "iopub.execute_input": "2022-12-09T14:29:46.944171Z",
     "iopub.status.busy": "2022-12-09T14:29:46.943747Z",
     "iopub.status.idle": "2022-12-09T14:29:46.948818Z",
     "shell.execute_reply": "2022-12-09T14:29:46.947784Z"
    },
    "id": "kvdfuy_E-vvV",
    "papermill": {
     "duration": 0.033863,
     "end_time": "2022-12-09T14:29:46.951155",
     "exception": false,
     "start_time": "2022-12-09T14:29:46.917292",
     "status": "completed"
    },
    "tags": []
   },
   "outputs": [],
   "source": [
    "# forest_classi = RandomForestClassifier(2000,\n",
    "#                                       n_jobs=-1,\n",
    "#                                        class_weight=\"balanced\"\n",
    "#                                       )\n"
   ]
  },
  {
   "cell_type": "code",
   "execution_count": 65,
   "id": "36a7ae8c",
   "metadata": {
    "execution": {
     "iopub.execute_input": "2022-12-09T14:29:47.003769Z",
     "iopub.status.busy": "2022-12-09T14:29:47.003309Z",
     "iopub.status.idle": "2022-12-09T14:29:47.008011Z",
     "shell.execute_reply": "2022-12-09T14:29:47.006888Z"
    },
    "papermill": {
     "duration": 0.033027,
     "end_time": "2022-12-09T14:29:47.010345",
     "exception": false,
     "start_time": "2022-12-09T14:29:46.977318",
     "status": "completed"
    },
    "tags": []
   },
   "outputs": [],
   "source": [
    "# %%time\n",
    "# forest_classi.fit(X_train,y_train)"
   ]
  },
  {
   "cell_type": "code",
   "execution_count": 66,
   "id": "dac9b596",
   "metadata": {
    "execution": {
     "iopub.execute_input": "2022-12-09T14:29:47.064230Z",
     "iopub.status.busy": "2022-12-09T14:29:47.063818Z",
     "iopub.status.idle": "2022-12-09T14:29:47.068226Z",
     "shell.execute_reply": "2022-12-09T14:29:47.067106Z"
    },
    "id": "4BWA9sSrDoxE",
    "papermill": {
     "duration": 0.034942,
     "end_time": "2022-12-09T14:29:47.070562",
     "exception": false,
     "start_time": "2022-12-09T14:29:47.035620",
     "status": "completed"
    },
    "tags": []
   },
   "outputs": [],
   "source": [
    "# prediction_forest_train = forest_classi.predict(X_train)\n",
    "# accuracy_score(y_train, prediction_forest_train)"
   ]
  },
  {
   "cell_type": "code",
   "execution_count": 67,
   "id": "3b2d9ec5",
   "metadata": {
    "execution": {
     "iopub.execute_input": "2022-12-09T14:29:47.122950Z",
     "iopub.status.busy": "2022-12-09T14:29:47.122502Z",
     "iopub.status.idle": "2022-12-09T14:29:47.127430Z",
     "shell.execute_reply": "2022-12-09T14:29:47.126565Z"
    },
    "papermill": {
     "duration": 0.033661,
     "end_time": "2022-12-09T14:29:47.129623",
     "exception": false,
     "start_time": "2022-12-09T14:29:47.095962",
     "status": "completed"
    },
    "tags": []
   },
   "outputs": [],
   "source": [
    "from sklearn.metrics import accuracy_score\n",
    "# y_hat = forest_classi.predict(X_val)\n",
    "# accuracy_score(y_val, y_hat)"
   ]
  },
  {
   "cell_type": "code",
   "execution_count": 68,
   "id": "646aa071",
   "metadata": {
    "execution": {
     "iopub.execute_input": "2022-12-09T14:29:47.184378Z",
     "iopub.status.busy": "2022-12-09T14:29:47.183978Z",
     "iopub.status.idle": "2022-12-09T14:29:47.188390Z",
     "shell.execute_reply": "2022-12-09T14:29:47.187506Z"
    },
    "papermill": {
     "duration": 0.03406,
     "end_time": "2022-12-09T14:29:47.190552",
     "exception": false,
     "start_time": "2022-12-09T14:29:47.156492",
     "status": "completed"
    },
    "tags": []
   },
   "outputs": [],
   "source": [
    "# sentiment_prediction = forest_classi.predict(test_inputs)\n",
    "# submission.Sentiment = sentiment_prediction\n",
    "# submission.to_csv(\"submission.csv\", index=None)"
   ]
  },
  {
   "cell_type": "markdown",
   "id": "2af44a59",
   "metadata": {
    "id": "S8WnmO8SDopQ",
    "outputId": "ad27a3ba-b6e9-4675-9b20-0e338f3fcf8d",
    "papermill": {
     "duration": 0.025299,
     "end_time": "2022-12-09T14:29:47.242024",
     "exception": false,
     "start_time": "2022-12-09T14:29:47.216725",
     "status": "completed"
    },
    "tags": []
   },
   "source": [
    "### Model 3"
   ]
  },
  {
   "cell_type": "code",
   "execution_count": null,
   "id": "18635b5d",
   "metadata": {
    "execution": {
     "iopub.execute_input": "2022-12-09T14:29:47.344368Z",
     "iopub.status.busy": "2022-12-09T14:29:47.343593Z",
     "iopub.status.idle": "2022-12-09T17:48:12.719631Z",
     "shell.execute_reply": "2022-12-09T17:48:12.718378Z"
    },
    "id": "FuRhZQJqDomm",
    "papermill": {
     "duration": 11905.432059,
     "end_time": "2022-12-09T17:48:12.749311",
     "exception": false,
     "start_time": "2022-12-09T14:29:47.317252",
     "status": "completed"
    },
    "tags": []
   },
   "outputs": [],
   "source": [
    "from sklearn.ensemble import RandomForestRegressor\n",
    "forest_reg = RandomForestRegressor(1000,\n",
    "                                  max_features=\"log2\")\n",
    "forest_reg.fit(X_train,y_train)"
   ]
  },
  {
   "cell_type": "code",
   "execution_count": null,
   "id": "ef1a30c2",
   "metadata": {
    "execution": {
     "iopub.execute_input": "2022-12-09T17:48:12.803174Z",
     "iopub.status.busy": "2022-12-09T17:48:12.802757Z",
     "iopub.status.idle": "2022-12-09T17:48:12.808104Z",
     "shell.execute_reply": "2022-12-09T17:48:12.806901Z"
    },
    "papermill": {
     "duration": 0.034716,
     "end_time": "2022-12-09T17:48:12.810440",
     "exception": false,
     "start_time": "2022-12-09T17:48:12.775724",
     "status": "completed"
    },
    "tags": []
   },
   "outputs": [],
   "source": [
    "import numpy as np"
   ]
  },
  {
   "cell_type": "code",
   "execution_count": null,
   "id": "80fc0591",
   "metadata": {
    "execution": {
     "iopub.execute_input": "2022-12-09T17:48:12.863216Z",
     "iopub.status.busy": "2022-12-09T17:48:12.862809Z",
     "iopub.status.idle": "2022-12-09T17:48:12.868337Z",
     "shell.execute_reply": "2022-12-09T17:48:12.867196Z"
    },
    "papermill": {
     "duration": 0.034636,
     "end_time": "2022-12-09T17:48:12.870664",
     "exception": false,
     "start_time": "2022-12-09T17:48:12.836028",
     "status": "completed"
    },
    "tags": []
   },
   "outputs": [],
   "source": [
    "from sklearn.metrics import accuracy_score"
   ]
  },
  {
   "cell_type": "code",
   "execution_count": null,
   "id": "0f375e23",
   "metadata": {
    "execution": {
     "iopub.execute_input": "2022-12-09T17:48:12.924134Z",
     "iopub.status.busy": "2022-12-09T17:48:12.923721Z",
     "iopub.status.idle": "2022-12-09T18:00:10.018501Z",
     "shell.execute_reply": "2022-12-09T18:00:10.017121Z"
    },
    "id": "1FyiLUvLDojw",
    "papermill": {
     "duration": 717.149078,
     "end_time": "2022-12-09T18:00:10.046021",
     "exception": false,
     "start_time": "2022-12-09T17:48:12.896943",
     "status": "completed"
    },
    "tags": []
   },
   "outputs": [],
   "source": [
    "prediction_forest_reg_train = forest_reg.predict(X_train)\n",
    "prediction_forest_reg_train = np.round_(prediction_forest_reg_train.astype(int))\n",
    "accuracy_score(y_train, prediction_forest_reg_train)"
   ]
  },
  {
   "cell_type": "code",
   "execution_count": null,
   "id": "fbc49e30",
   "metadata": {
    "execution": {
     "iopub.execute_input": "2022-12-09T18:00:10.176630Z",
     "iopub.status.busy": "2022-12-09T18:00:10.176177Z",
     "iopub.status.idle": "2022-12-09T18:04:19.724187Z",
     "shell.execute_reply": "2022-12-09T18:04:19.723031Z"
    },
    "id": "uGvDA1JJFkjF",
    "papermill": {
     "duration": 249.606078,
     "end_time": "2022-12-09T18:04:19.753317",
     "exception": false,
     "start_time": "2022-12-09T18:00:10.147239",
     "status": "completed"
    },
    "tags": []
   },
   "outputs": [],
   "source": [
    "from sklearn.metrics import accuracy_score\n",
    "y_hat = forest_reg.predict(X_val)\n",
    "y_hat = np.round_(y_hat.astype(int))\n",
    "accuracy_score(y_val, y_hat)"
   ]
  },
  {
   "cell_type": "code",
   "execution_count": null,
   "id": "24723995",
   "metadata": {
    "execution": {
     "iopub.execute_input": "2022-12-09T18:04:19.807357Z",
     "iopub.status.busy": "2022-12-09T18:04:19.806737Z",
     "iopub.status.idle": "2022-12-09T18:11:50.406558Z",
     "shell.execute_reply": "2022-12-09T18:11:50.405257Z"
    },
    "id": "l90XTWj6DohY",
    "papermill": {
     "duration": 450.630309,
     "end_time": "2022-12-09T18:11:50.409470",
     "exception": false,
     "start_time": "2022-12-09T18:04:19.779161",
     "status": "completed"
    },
    "tags": []
   },
   "outputs": [],
   "source": [
    "sentiment_prediction = forest_reg.predict(test_inputs)\n",
    "sentiment_prediction = np.round_(sentiment_prediction.astype(int))\n",
    "submission.Sentiment = sentiment_prediction\n",
    "#submission.to_csv(\"submission.csv\", index=None)"
   ]
  },
  {
   "cell_type": "code",
   "execution_count": null,
   "id": "199ce299",
   "metadata": {
    "id": "TepIyLZX4ALZ",
    "papermill": {
     "duration": 0.024929,
     "end_time": "2022-12-09T18:11:50.564220",
     "exception": false,
     "start_time": "2022-12-09T18:11:50.539291",
     "status": "completed"
    },
    "tags": []
   },
   "outputs": [],
   "source": []
  }
 ],
 "metadata": {
  "kernelspec": {
   "display_name": "Python 3 (ipykernel)",
   "language": "python",
   "name": "python3"
  },
  "language_info": {
   "codemirror_mode": {
    "name": "ipython",
    "version": 3
   },
   "file_extension": ".py",
   "mimetype": "text/x-python",
   "name": "python",
   "nbconvert_exporter": "python",
   "pygments_lexer": "ipython3",
   "version": "3.8.15"
  },
  "papermill": {
   "default_parameters": {},
   "duration": 13373.897097,
   "end_time": "2022-12-09T18:11:51.939790",
   "environment_variables": {},
   "exception": null,
   "input_path": "__notebook__.ipynb",
   "output_path": "__notebook__.ipynb",
   "parameters": {},
   "start_time": "2022-12-09T14:28:58.042693",
   "version": "2.3.4"
  }
 },
 "nbformat": 4,
 "nbformat_minor": 5
}
